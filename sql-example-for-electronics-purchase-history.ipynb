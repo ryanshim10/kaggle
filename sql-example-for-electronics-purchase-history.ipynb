{
 "cells": [
  {
   "cell_type": "code",
   "execution_count": 1,
   "id": "d5362dba",
   "metadata": {
    "_cell_guid": "8b4ecc78-2b04-4f06-a931-f4d09438e837",
    "_uuid": "a53fa10a-1be6-44ec-b2eb-513496048865",
    "collapsed": false,
    "execution": {
     "iopub.execute_input": "2022-04-20T09:34:26.027772Z",
     "iopub.status.busy": "2022-04-20T09:34:26.022304Z",
     "iopub.status.idle": "2022-04-20T09:34:26.077874Z",
     "shell.execute_reply": "2022-04-20T09:34:26.082579Z",
     "shell.execute_reply.started": "2022-04-20T08:42:30.060333Z"
    },
    "jupyter": {
     "outputs_hidden": false
    },
    "papermill": {
     "duration": 0.118791,
     "end_time": "2022-04-20T09:34:26.082904",
     "exception": false,
     "start_time": "2022-04-20T09:34:25.964113",
     "status": "completed"
    },
    "tags": []
   },
   "outputs": [
    {
     "name": "stdout",
     "output_type": "stream",
     "text": [
      "/kaggle/input/ecommerce-purchase-history-from-electronics-store/kz.csv\n"
     ]
    }
   ],
   "source": [
    "# This Python 3 environment comes with many helpful analytics libraries installed\n",
    "# It is defined by the kaggle/python Docker image: https://github.com/kaggle/docker-python\n",
    "# For example, here's several helpful packages to load\n",
    "\n",
    "import numpy as np # linear algebra\n",
    "import pandas as pd # data processing, CSV file I/O (e.g. pd.read_csv)\n",
    "\n",
    "# Input data files are available in the read-only \"../input/\" directory\n",
    "# For example, running this (by clicking run or pressing Shift+Enter) will list all files under the input directory\n",
    "\n",
    "import os\n",
    "for dirname, _, filenames in os.walk('/kaggle/input'):\n",
    "    for filename in filenames:\n",
    "        print(os.path.join(dirname, filename))\n",
    "\n",
    "# You can write up to 20GB to the current directory (/kaggle/working/) that gets preserved as output when you create a version using \"Save & Run All\" \n",
    "# You can also write temporary files to /kaggle/temp/, but they won't be saved outside of the current session"
   ]
  },
  {
   "cell_type": "code",
   "execution_count": 2,
   "id": "c0b97a12",
   "metadata": {
    "_cell_guid": "2b3a5a6d-a4d6-4f2c-8777-dff69ff424ef",
    "_uuid": "b7c8982d-9c12-41b9-b4ec-5f23262062c1",
    "collapsed": false,
    "execution": {
     "iopub.execute_input": "2022-04-20T09:34:26.181525Z",
     "iopub.status.busy": "2022-04-20T09:34:26.180203Z",
     "iopub.status.idle": "2022-04-20T09:34:32.179011Z",
     "shell.execute_reply": "2022-04-20T09:34:32.178232Z",
     "shell.execute_reply.started": "2022-04-20T08:42:32.702903Z"
    },
    "jupyter": {
     "outputs_hidden": false
    },
    "papermill": {
     "duration": 6.044722,
     "end_time": "2022-04-20T09:34:32.179181",
     "exception": false,
     "start_time": "2022-04-20T09:34:26.134459",
     "status": "completed"
    },
    "tags": []
   },
   "outputs": [
    {
     "data": {
      "text/html": [
       "<div>\n",
       "<style scoped>\n",
       "    .dataframe tbody tr th:only-of-type {\n",
       "        vertical-align: middle;\n",
       "    }\n",
       "\n",
       "    .dataframe tbody tr th {\n",
       "        vertical-align: top;\n",
       "    }\n",
       "\n",
       "    .dataframe thead th {\n",
       "        text-align: right;\n",
       "    }\n",
       "</style>\n",
       "<table border=\"1\" class=\"dataframe\">\n",
       "  <thead>\n",
       "    <tr style=\"text-align: right;\">\n",
       "      <th></th>\n",
       "      <th>event_time</th>\n",
       "      <th>order_id</th>\n",
       "      <th>product_id</th>\n",
       "      <th>category_id</th>\n",
       "      <th>category_code</th>\n",
       "      <th>brand</th>\n",
       "      <th>price</th>\n",
       "      <th>user_id</th>\n",
       "    </tr>\n",
       "  </thead>\n",
       "  <tbody>\n",
       "    <tr>\n",
       "      <th>0</th>\n",
       "      <td>2020-04-24 11:50:39 UTC</td>\n",
       "      <td>2294359932054536986</td>\n",
       "      <td>1515966223509089906</td>\n",
       "      <td>2.268105e+18</td>\n",
       "      <td>electronics.tablet</td>\n",
       "      <td>samsung</td>\n",
       "      <td>162.01</td>\n",
       "      <td>1.515916e+18</td>\n",
       "    </tr>\n",
       "    <tr>\n",
       "      <th>1</th>\n",
       "      <td>2020-04-24 11:50:39 UTC</td>\n",
       "      <td>2294359932054536986</td>\n",
       "      <td>1515966223509089906</td>\n",
       "      <td>2.268105e+18</td>\n",
       "      <td>electronics.tablet</td>\n",
       "      <td>samsung</td>\n",
       "      <td>162.01</td>\n",
       "      <td>1.515916e+18</td>\n",
       "    </tr>\n",
       "    <tr>\n",
       "      <th>2</th>\n",
       "      <td>2020-04-24 14:37:43 UTC</td>\n",
       "      <td>2294444024058086220</td>\n",
       "      <td>2273948319057183658</td>\n",
       "      <td>2.268105e+18</td>\n",
       "      <td>electronics.audio.headphone</td>\n",
       "      <td>huawei</td>\n",
       "      <td>77.52</td>\n",
       "      <td>1.515916e+18</td>\n",
       "    </tr>\n",
       "    <tr>\n",
       "      <th>3</th>\n",
       "      <td>2020-04-24 14:37:43 UTC</td>\n",
       "      <td>2294444024058086220</td>\n",
       "      <td>2273948319057183658</td>\n",
       "      <td>2.268105e+18</td>\n",
       "      <td>electronics.audio.headphone</td>\n",
       "      <td>huawei</td>\n",
       "      <td>77.52</td>\n",
       "      <td>1.515916e+18</td>\n",
       "    </tr>\n",
       "    <tr>\n",
       "      <th>4</th>\n",
       "      <td>2020-04-24 19:16:21 UTC</td>\n",
       "      <td>2294584263154074236</td>\n",
       "      <td>2273948316817424439</td>\n",
       "      <td>2.268105e+18</td>\n",
       "      <td>NaN</td>\n",
       "      <td>karcher</td>\n",
       "      <td>217.57</td>\n",
       "      <td>1.515916e+18</td>\n",
       "    </tr>\n",
       "  </tbody>\n",
       "</table>\n",
       "</div>"
      ],
      "text/plain": [
       "                event_time             order_id           product_id  \\\n",
       "0  2020-04-24 11:50:39 UTC  2294359932054536986  1515966223509089906   \n",
       "1  2020-04-24 11:50:39 UTC  2294359932054536986  1515966223509089906   \n",
       "2  2020-04-24 14:37:43 UTC  2294444024058086220  2273948319057183658   \n",
       "3  2020-04-24 14:37:43 UTC  2294444024058086220  2273948319057183658   \n",
       "4  2020-04-24 19:16:21 UTC  2294584263154074236  2273948316817424439   \n",
       "\n",
       "    category_id                category_code    brand   price       user_id  \n",
       "0  2.268105e+18           electronics.tablet  samsung  162.01  1.515916e+18  \n",
       "1  2.268105e+18           electronics.tablet  samsung  162.01  1.515916e+18  \n",
       "2  2.268105e+18  electronics.audio.headphone   huawei   77.52  1.515916e+18  \n",
       "3  2.268105e+18  electronics.audio.headphone   huawei   77.52  1.515916e+18  \n",
       "4  2.268105e+18                          NaN  karcher  217.57  1.515916e+18  "
      ]
     },
     "execution_count": 2,
     "metadata": {},
     "output_type": "execute_result"
    }
   ],
   "source": [
    "import sqlite3\n",
    "import csv\n",
    "\n",
    "data = pd.read_csv('/kaggle/input/ecommerce-purchase-history-from-electronics-store/kz.csv')\n",
    "\n",
    "data.head(5)"
   ]
  },
  {
   "cell_type": "code",
   "execution_count": 3,
   "id": "3515762a",
   "metadata": {
    "_cell_guid": "3897f57a-e699-4596-8514-7ba8352e4e01",
    "_uuid": "aeb7a44e-328f-4f10-987b-12a2c64ce68e",
    "collapsed": false,
    "execution": {
     "iopub.execute_input": "2022-04-20T09:34:32.219813Z",
     "iopub.status.busy": "2022-04-20T09:34:32.218768Z",
     "iopub.status.idle": "2022-04-20T09:34:52.424419Z",
     "shell.execute_reply": "2022-04-20T09:34:52.423884Z",
     "shell.execute_reply.started": "2022-04-20T08:42:50.386160Z"
    },
    "jupyter": {
     "outputs_hidden": false
    },
    "papermill": {
     "duration": 20.227512,
     "end_time": "2022-04-20T09:34:52.424573",
     "exception": false,
     "start_time": "2022-04-20T09:34:32.197061",
     "status": "completed"
    },
    "tags": []
   },
   "outputs": [],
   "source": [
    "conn = sqlite3.connect(\"test.db\")\n",
    "data.to_sql('kz', conn)"
   ]
  },
  {
   "cell_type": "code",
   "execution_count": 4,
   "id": "45b7373d",
   "metadata": {
    "_cell_guid": "9d586753-8de9-4df0-8cee-4e6494e6cb52",
    "_uuid": "5a19c2ae-77be-4810-9145-4d935f29e557",
    "collapsed": false,
    "execution": {
     "iopub.execute_input": "2022-04-20T09:34:52.463193Z",
     "iopub.status.busy": "2022-04-20T09:34:52.460456Z",
     "iopub.status.idle": "2022-04-20T09:34:52.467916Z",
     "shell.execute_reply": "2022-04-20T09:34:52.467334Z",
     "shell.execute_reply.started": "2022-04-20T08:51:36.409135Z"
    },
    "jupyter": {
     "outputs_hidden": false
    },
    "papermill": {
     "duration": 0.02694,
     "end_time": "2022-04-20T09:34:52.468034",
     "exception": false,
     "start_time": "2022-04-20T09:34:52.441094",
     "status": "completed"
    },
    "tags": []
   },
   "outputs": [
    {
     "name": "stdout",
     "output_type": "stream",
     "text": [
      "(0, '2020-04-24 11:50:39 UTC', 2294359932054536986, 1515966223509089906, 2.268105426648171e+18, 'electronics.tablet', 'samsung', 162.01, 1.515915625441994e+18)\n"
     ]
    }
   ],
   "source": [
    "#example of SQL script \n",
    "cur = conn.cursor()\n",
    "cur.execute(\"SELECT * FROM kz\")\n",
    "print(cur.fetchone())"
   ]
  },
  {
   "cell_type": "code",
   "execution_count": 5,
   "id": "575c7da8",
   "metadata": {
    "_cell_guid": "be8658f5-186e-4320-93ed-e7f6589626fa",
    "_uuid": "6e68e5cd-a748-465d-bf9c-6ef9d6081532",
    "collapsed": false,
    "execution": {
     "iopub.execute_input": "2022-04-20T09:34:52.506697Z",
     "iopub.status.busy": "2022-04-20T09:34:52.505780Z",
     "iopub.status.idle": "2022-04-20T09:34:56.562634Z",
     "shell.execute_reply": "2022-04-20T09:34:56.562006Z",
     "shell.execute_reply.started": "2022-04-20T08:30:59.545359Z"
    },
    "jupyter": {
     "outputs_hidden": false
    },
    "papermill": {
     "duration": 4.077927,
     "end_time": "2022-04-20T09:34:56.562790",
     "exception": false,
     "start_time": "2022-04-20T09:34:52.484863",
     "status": "completed"
    },
    "tags": []
   },
   "outputs": [
    {
     "data": {
      "text/html": [
       "<div>\n",
       "<style scoped>\n",
       "    .dataframe tbody tr th:only-of-type {\n",
       "        vertical-align: middle;\n",
       "    }\n",
       "\n",
       "    .dataframe tbody tr th {\n",
       "        vertical-align: top;\n",
       "    }\n",
       "\n",
       "    .dataframe thead th {\n",
       "        text-align: right;\n",
       "    }\n",
       "</style>\n",
       "<table border=\"1\" class=\"dataframe\">\n",
       "  <thead>\n",
       "    <tr style=\"text-align: right;\">\n",
       "      <th></th>\n",
       "      <th>order_id</th>\n",
       "    </tr>\n",
       "  </thead>\n",
       "  <tbody>\n",
       "    <tr>\n",
       "      <th>0</th>\n",
       "      <td>2294359932054536986</td>\n",
       "    </tr>\n",
       "    <tr>\n",
       "      <th>1</th>\n",
       "      <td>2294359932054536986</td>\n",
       "    </tr>\n",
       "    <tr>\n",
       "      <th>2</th>\n",
       "      <td>2294444024058086220</td>\n",
       "    </tr>\n",
       "    <tr>\n",
       "      <th>3</th>\n",
       "      <td>2294444024058086220</td>\n",
       "    </tr>\n",
       "    <tr>\n",
       "      <th>4</th>\n",
       "      <td>2294584263154074236</td>\n",
       "    </tr>\n",
       "  </tbody>\n",
       "</table>\n",
       "</div>"
      ],
      "text/plain": [
       "              order_id\n",
       "0  2294359932054536986\n",
       "1  2294359932054536986\n",
       "2  2294444024058086220\n",
       "3  2294444024058086220\n",
       "4  2294584263154074236"
      ]
     },
     "execution_count": 5,
     "metadata": {},
     "output_type": "execute_result"
    }
   ],
   "source": [
    "df = pd.read_sql(\"SELECT order_id FROM kz\", conn, index_col=None)\n",
    "df.head(5)"
   ]
  },
  {
   "cell_type": "code",
   "execution_count": 6,
   "id": "78e5bb38",
   "metadata": {
    "_cell_guid": "b7aac7a1-0b2d-4e38-b665-d0f14b2625e3",
    "_uuid": "59e01ae4-3fac-4396-9c93-cd7b8f8234bf",
    "collapsed": false,
    "execution": {
     "iopub.execute_input": "2022-04-20T09:34:56.600634Z",
     "iopub.status.busy": "2022-04-20T09:34:56.599677Z",
     "iopub.status.idle": "2022-04-20T09:35:02.244189Z",
     "shell.execute_reply": "2022-04-20T09:35:02.243607Z",
     "shell.execute_reply.started": "2022-04-20T08:55:10.513985Z"
    },
    "jupyter": {
     "outputs_hidden": false
    },
    "papermill": {
     "duration": 5.663791,
     "end_time": "2022-04-20T09:35:02.244333",
     "exception": false,
     "start_time": "2022-04-20T09:34:56.580542",
     "status": "completed"
    },
    "tags": []
   },
   "outputs": [
    {
     "data": {
      "text/html": [
       "<div>\n",
       "<style scoped>\n",
       "    .dataframe tbody tr th:only-of-type {\n",
       "        vertical-align: middle;\n",
       "    }\n",
       "\n",
       "    .dataframe tbody tr th {\n",
       "        vertical-align: top;\n",
       "    }\n",
       "\n",
       "    .dataframe thead th {\n",
       "        text-align: right;\n",
       "    }\n",
       "</style>\n",
       "<table border=\"1\" class=\"dataframe\">\n",
       "  <thead>\n",
       "    <tr style=\"text-align: right;\">\n",
       "      <th></th>\n",
       "      <th>total_count</th>\n",
       "      <th>product_count</th>\n",
       "      <th>order_count</th>\n",
       "      <th>category_count</th>\n",
       "      <th>user_count</th>\n",
       "      <th>sum</th>\n",
       "      <th>avg</th>\n",
       "      <th>max</th>\n",
       "      <th>min</th>\n",
       "    </tr>\n",
       "  </thead>\n",
       "  <tbody>\n",
       "    <tr>\n",
       "      <th>0</th>\n",
       "      <td>2633521</td>\n",
       "      <td>25113</td>\n",
       "      <td>1435266</td>\n",
       "      <td>900</td>\n",
       "      <td>98262</td>\n",
       "      <td>3.392464e+08</td>\n",
       "      <td>154.093165</td>\n",
       "      <td>50925.9</td>\n",
       "      <td>0.0</td>\n",
       "    </tr>\n",
       "  </tbody>\n",
       "</table>\n",
       "</div>"
      ],
      "text/plain": [
       "   total_count  product_count  order_count  category_count  user_count  \\\n",
       "0      2633521          25113      1435266             900       98262   \n",
       "\n",
       "            sum         avg      max  min  \n",
       "0  3.392464e+08  154.093165  50925.9  0.0  "
      ]
     },
     "execution_count": 6,
     "metadata": {},
     "output_type": "execute_result"
    }
   ],
   "source": [
    "#Calculating the feature quantity for the entire table\n",
    "'''\n",
    "df = pd.read_sql(\"SELECT \n",
    "\t\t\t\t   count(*) AS total_count\n",
    "\t\t\t\t  , count(distinct product_id) as product_count \n",
    "\t\t\t\t  , count(distinct order_id) as order_count\n",
    "\t\t\t\t  , count(distinct category_id) as category_count\n",
    "\t\t\t\t  , count(distinct user_id) as user_count\n",
    "\t\t\t\t  , sum(price) as sum\n",
    "\t\t\t\t  , AVG(price) as avg\n",
    "\t\t\t\t  , max(price) as max\n",
    "\t\t\t\t  , min(price) as min\n",
    "\t\t\t\t from kz\")\n",
    "\t\t\t\t \n",
    "'''\n",
    "\n",
    "df = pd.read_sql(\"SELECT  count(*) AS total_count, count(distinct product_id) as product_count , count(distinct order_id) as order_count, count(distinct category_id) as category_count, count(distinct user_id) as user_count, sum(price) as sum, AVG(price) as avg, max(price) as max, min(price) as min from kz\", conn, index_col=None)\n",
    "\n",
    "df"
   ]
  },
  {
   "cell_type": "code",
   "execution_count": 7,
   "id": "a437b4e9",
   "metadata": {
    "_cell_guid": "2ee82dfc-7931-4066-b9c6-6e5df7a860d3",
    "_uuid": "ef751566-4ac2-4b1f-b5f4-c81e3c83064d",
    "collapsed": false,
    "execution": {
     "iopub.execute_input": "2022-04-20T09:35:02.286630Z",
     "iopub.status.busy": "2022-04-20T09:35:02.283199Z",
     "iopub.status.idle": "2022-04-20T09:35:08.945930Z",
     "shell.execute_reply": "2022-04-20T09:35:08.945354Z",
     "shell.execute_reply.started": "2022-04-20T09:29:17.782756Z"
    },
    "jupyter": {
     "outputs_hidden": false
    },
    "papermill": {
     "duration": 6.683734,
     "end_time": "2022-04-20T09:35:08.946085",
     "exception": false,
     "start_time": "2022-04-20T09:35:02.262351",
     "status": "completed"
    },
    "tags": []
   },
   "outputs": [
    {
     "data": {
      "text/html": [
       "<div>\n",
       "<style scoped>\n",
       "    .dataframe tbody tr th:only-of-type {\n",
       "        vertical-align: middle;\n",
       "    }\n",
       "\n",
       "    .dataframe tbody tr th {\n",
       "        vertical-align: top;\n",
       "    }\n",
       "\n",
       "    .dataframe thead th {\n",
       "        text-align: right;\n",
       "    }\n",
       "</style>\n",
       "<table border=\"1\" class=\"dataframe\">\n",
       "  <thead>\n",
       "    <tr style=\"text-align: right;\">\n",
       "      <th></th>\n",
       "      <th>user_id</th>\n",
       "      <th>total_count</th>\n",
       "      <th>product_count</th>\n",
       "      <th>order_count</th>\n",
       "      <th>category_count</th>\n",
       "      <th>sum</th>\n",
       "      <th>avg</th>\n",
       "      <th>max</th>\n",
       "      <th>min</th>\n",
       "    </tr>\n",
       "  </thead>\n",
       "  <tbody>\n",
       "    <tr>\n",
       "      <th>0</th>\n",
       "      <td>NaN</td>\n",
       "      <td>2069352</td>\n",
       "      <td>17917</td>\n",
       "      <td>1056723</td>\n",
       "      <td>657</td>\n",
       "      <td>2.217473e+08</td>\n",
       "      <td>135.426653</td>\n",
       "      <td>50925.90</td>\n",
       "      <td>0.00</td>\n",
       "    </tr>\n",
       "    <tr>\n",
       "      <th>1</th>\n",
       "      <td>1.515916e+18</td>\n",
       "      <td>635</td>\n",
       "      <td>460</td>\n",
       "      <td>402</td>\n",
       "      <td>134</td>\n",
       "      <td>1.217013e+05</td>\n",
       "      <td>191.655591</td>\n",
       "      <td>1157.38</td>\n",
       "      <td>0.23</td>\n",
       "    </tr>\n",
       "    <tr>\n",
       "      <th>2</th>\n",
       "      <td>1.515916e+18</td>\n",
       "      <td>632</td>\n",
       "      <td>521</td>\n",
       "      <td>364</td>\n",
       "      <td>154</td>\n",
       "      <td>1.118839e+05</td>\n",
       "      <td>177.031472</td>\n",
       "      <td>1736.09</td>\n",
       "      <td>0.00</td>\n",
       "    </tr>\n",
       "    <tr>\n",
       "      <th>3</th>\n",
       "      <td>1.515916e+18</td>\n",
       "      <td>584</td>\n",
       "      <td>493</td>\n",
       "      <td>328</td>\n",
       "      <td>140</td>\n",
       "      <td>1.088258e+05</td>\n",
       "      <td>186.345599</td>\n",
       "      <td>4745.35</td>\n",
       "      <td>0.67</td>\n",
       "    </tr>\n",
       "    <tr>\n",
       "      <th>4</th>\n",
       "      <td>1.515916e+18</td>\n",
       "      <td>548</td>\n",
       "      <td>470</td>\n",
       "      <td>342</td>\n",
       "      <td>132</td>\n",
       "      <td>9.496708e+04</td>\n",
       "      <td>173.297591</td>\n",
       "      <td>3009.24</td>\n",
       "      <td>0.23</td>\n",
       "    </tr>\n",
       "    <tr>\n",
       "      <th>...</th>\n",
       "      <td>...</td>\n",
       "      <td>...</td>\n",
       "      <td>...</td>\n",
       "      <td>...</td>\n",
       "      <td>...</td>\n",
       "      <td>...</td>\n",
       "      <td>...</td>\n",
       "      <td>...</td>\n",
       "      <td>...</td>\n",
       "    </tr>\n",
       "    <tr>\n",
       "      <th>98258</th>\n",
       "      <td>1.515916e+18</td>\n",
       "      <td>1</td>\n",
       "      <td>1</td>\n",
       "      <td>1</td>\n",
       "      <td>1</td>\n",
       "      <td>0.000000e+00</td>\n",
       "      <td>0.000000</td>\n",
       "      <td>0.00</td>\n",
       "      <td>0.00</td>\n",
       "    </tr>\n",
       "    <tr>\n",
       "      <th>98259</th>\n",
       "      <td>1.515916e+18</td>\n",
       "      <td>1</td>\n",
       "      <td>1</td>\n",
       "      <td>1</td>\n",
       "      <td>1</td>\n",
       "      <td>0.000000e+00</td>\n",
       "      <td>0.000000</td>\n",
       "      <td>0.00</td>\n",
       "      <td>0.00</td>\n",
       "    </tr>\n",
       "    <tr>\n",
       "      <th>98260</th>\n",
       "      <td>1.515916e+18</td>\n",
       "      <td>1</td>\n",
       "      <td>1</td>\n",
       "      <td>1</td>\n",
       "      <td>1</td>\n",
       "      <td>0.000000e+00</td>\n",
       "      <td>0.000000</td>\n",
       "      <td>0.00</td>\n",
       "      <td>0.00</td>\n",
       "    </tr>\n",
       "    <tr>\n",
       "      <th>98261</th>\n",
       "      <td>1.515916e+18</td>\n",
       "      <td>1</td>\n",
       "      <td>1</td>\n",
       "      <td>1</td>\n",
       "      <td>1</td>\n",
       "      <td>0.000000e+00</td>\n",
       "      <td>0.000000</td>\n",
       "      <td>0.00</td>\n",
       "      <td>0.00</td>\n",
       "    </tr>\n",
       "    <tr>\n",
       "      <th>98262</th>\n",
       "      <td>1.515916e+18</td>\n",
       "      <td>1</td>\n",
       "      <td>1</td>\n",
       "      <td>1</td>\n",
       "      <td>1</td>\n",
       "      <td>0.000000e+00</td>\n",
       "      <td>0.000000</td>\n",
       "      <td>0.00</td>\n",
       "      <td>0.00</td>\n",
       "    </tr>\n",
       "  </tbody>\n",
       "</table>\n",
       "<p>98263 rows × 9 columns</p>\n",
       "</div>"
      ],
      "text/plain": [
       "            user_id  total_count  product_count  order_count  category_count  \\\n",
       "0               NaN      2069352          17917      1056723             657   \n",
       "1      1.515916e+18          635            460          402             134   \n",
       "2      1.515916e+18          632            521          364             154   \n",
       "3      1.515916e+18          584            493          328             140   \n",
       "4      1.515916e+18          548            470          342             132   \n",
       "...             ...          ...            ...          ...             ...   \n",
       "98258  1.515916e+18            1              1            1               1   \n",
       "98259  1.515916e+18            1              1            1               1   \n",
       "98260  1.515916e+18            1              1            1               1   \n",
       "98261  1.515916e+18            1              1            1               1   \n",
       "98262  1.515916e+18            1              1            1               1   \n",
       "\n",
       "                sum         avg       max   min  \n",
       "0      2.217473e+08  135.426653  50925.90  0.00  \n",
       "1      1.217013e+05  191.655591   1157.38  0.23  \n",
       "2      1.118839e+05  177.031472   1736.09  0.00  \n",
       "3      1.088258e+05  186.345599   4745.35  0.67  \n",
       "4      9.496708e+04  173.297591   3009.24  0.23  \n",
       "...             ...         ...       ...   ...  \n",
       "98258  0.000000e+00    0.000000      0.00  0.00  \n",
       "98259  0.000000e+00    0.000000      0.00  0.00  \n",
       "98260  0.000000e+00    0.000000      0.00  0.00  \n",
       "98261  0.000000e+00    0.000000      0.00  0.00  \n",
       "98262  0.000000e+00    0.000000      0.00  0.00  \n",
       "\n",
       "[98263 rows x 9 columns]"
      ]
     },
     "execution_count": 7,
     "metadata": {},
     "output_type": "execute_result"
    }
   ],
   "source": [
    "#Calculating the feature quantity for users\n",
    "'''\n",
    "df = pd.read_sql(\"SELECT  user_id,\n",
    "\t\t\t\t\tcount(*) AS total_count\n",
    "\t\t\t\t  , count(distinct product_id) as product_count \n",
    "\t\t\t\t  , count(distinct order_id) as order_count\n",
    "\t\t\t\t  , count(distinct category_id) as category_count\t\t\t\t  \n",
    "\t\t\t\t  , sum(price) as sum\n",
    "\t\t\t\t  , AVG(price) as avg\n",
    "\t\t\t\t  , max(price) as max\n",
    "\t\t\t\t  , min(price) as min\n",
    "\t\t\t\t from kz\n",
    "\t\t\t\t GROUP BY user_id \n",
    "\t\t\t\t order by sum desc\n",
    "\")\n",
    "\t\t\t\t \n",
    "\n",
    "'''\n",
    "df = pd.read_sql(\"SELECT  user_id, count(*) AS total_count, count(distinct product_id) as product_count, count(distinct order_id) as order_count, count(distinct category_id) as category_count, sum(price) as sum, AVG(price) as avg, max(price) as max, min(price) as min from kz GROUP BY user_id order by sum desc\", conn, index_col=None)\n",
    "df"
   ]
  },
  {
   "cell_type": "code",
   "execution_count": null,
   "id": "e863d3b7",
   "metadata": {
    "_cell_guid": "f90c52d1-fceb-4bcd-abf7-2da335e2d4bc",
    "_uuid": "1d5c79de-f4bc-41b7-96cd-dedb9ed705ab",
    "collapsed": false,
    "jupyter": {
     "outputs_hidden": false
    },
    "papermill": {
     "duration": 0.018878,
     "end_time": "2022-04-20T09:35:08.984347",
     "exception": false,
     "start_time": "2022-04-20T09:35:08.965469",
     "status": "completed"
    },
    "tags": []
   },
   "outputs": [],
   "source": []
  },
  {
   "cell_type": "code",
   "execution_count": null,
   "id": "7fa27d7c",
   "metadata": {
    "_cell_guid": "22650d24-33d4-4a5b-8539-30cc9a53db26",
    "_uuid": "b0214e12-0b96-45c5-ab40-ccef8226afd7",
    "collapsed": false,
    "jupyter": {
     "outputs_hidden": false
    },
    "papermill": {
     "duration": 0.017941,
     "end_time": "2022-04-20T09:35:09.021295",
     "exception": false,
     "start_time": "2022-04-20T09:35:09.003354",
     "status": "completed"
    },
    "tags": []
   },
   "outputs": [],
   "source": []
  },
  {
   "cell_type": "code",
   "execution_count": null,
   "id": "4f05793b",
   "metadata": {
    "_cell_guid": "98ae3a24-104d-439d-bce3-6ee88a7e6694",
    "_uuid": "380eb75d-0fa3-4b6f-a551-40b757585d52",
    "collapsed": false,
    "jupyter": {
     "outputs_hidden": false
    },
    "papermill": {
     "duration": 0.018133,
     "end_time": "2022-04-20T09:35:09.057133",
     "exception": false,
     "start_time": "2022-04-20T09:35:09.039000",
     "status": "completed"
    },
    "tags": []
   },
   "outputs": [],
   "source": []
  },
  {
   "cell_type": "code",
   "execution_count": null,
   "id": "6b1f2988",
   "metadata": {
    "_cell_guid": "ffbaa476-3d49-4e62-94ac-a79bc6444430",
    "_uuid": "2ea134f3-1acb-415d-892a-f931c7c46b5d",
    "collapsed": false,
    "jupyter": {
     "outputs_hidden": false
    },
    "papermill": {
     "duration": 0.017242,
     "end_time": "2022-04-20T09:35:09.093026",
     "exception": false,
     "start_time": "2022-04-20T09:35:09.075784",
     "status": "completed"
    },
    "tags": []
   },
   "outputs": [],
   "source": []
  },
  {
   "cell_type": "code",
   "execution_count": null,
   "id": "6ccd8a9b",
   "metadata": {
    "_cell_guid": "3577a58e-c8aa-4771-87e0-a78da51c2700",
    "_uuid": "9a33a7a6-facd-435d-a8c9-c13260053609",
    "collapsed": false,
    "jupyter": {
     "outputs_hidden": false
    },
    "papermill": {
     "duration": 0.017873,
     "end_time": "2022-04-20T09:35:09.128994",
     "exception": false,
     "start_time": "2022-04-20T09:35:09.111121",
     "status": "completed"
    },
    "tags": []
   },
   "outputs": [],
   "source": []
  },
  {
   "cell_type": "code",
   "execution_count": null,
   "id": "19c4f704",
   "metadata": {
    "_cell_guid": "a37d2881-dfbd-4961-bc08-9b8bc94f6ddd",
    "_uuid": "68d4c32d-e3e3-4681-a8fd-39f09c32d71b",
    "collapsed": false,
    "jupyter": {
     "outputs_hidden": false
    },
    "papermill": {
     "duration": 0.017862,
     "end_time": "2022-04-20T09:35:09.166637",
     "exception": false,
     "start_time": "2022-04-20T09:35:09.148775",
     "status": "completed"
    },
    "tags": []
   },
   "outputs": [],
   "source": []
  }
 ],
 "metadata": {
  "kernelspec": {
   "display_name": "Python 3",
   "language": "python",
   "name": "python3"
  },
  "language_info": {
   "codemirror_mode": {
    "name": "ipython",
    "version": 3
   },
   "file_extension": ".py",
   "mimetype": "text/x-python",
   "name": "python",
   "nbconvert_exporter": "python",
   "pygments_lexer": "ipython3",
   "version": "3.7.12"
  },
  "papermill": {
   "default_parameters": {},
   "duration": 53.642245,
   "end_time": "2022-04-20T09:35:09.695152",
   "environment_variables": {},
   "exception": null,
   "input_path": "__notebook__.ipynb",
   "output_path": "__notebook__.ipynb",
   "parameters": {},
   "start_time": "2022-04-20T09:34:16.052907",
   "version": "2.3.3"
  }
 },
 "nbformat": 4,
 "nbformat_minor": 5
}
